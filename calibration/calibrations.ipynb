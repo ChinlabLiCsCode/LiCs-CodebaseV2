{
 "cells": [
  {
   "cell_type": "code",
   "execution_count": 3,
   "id": "b43a3552",
   "metadata": {},
   "outputs": [],
   "source": [
    "#imports\n",
    "import numpy as np\n",
    "import scipy as sp\n",
    "import pandas as pd\n",
    "import matplotlib.pyplot as plt"
   ]
  },
  {
   "cell_type": "markdown",
   "id": "1f85e48b",
   "metadata": {},
   "source": [
    "# Constants (All in SI units) and Data"
   ]
  },
  {
   "cell_type": "markdown",
   "id": "e80db73a",
   "metadata": {},
   "source": [
    "Relevant physical constants"
   ]
  },
  {
   "cell_type": "code",
   "execution_count": null,
   "id": "a60eb5c1",
   "metadata": {},
   "outputs": [],
   "source": [
    "class constants:\n",
    "    \"\"\"\n",
    "    Parameters:\n",
    "        k_B: Boltzmann constant in J/K\n",
    "        hbar: reduced Planck's constant\n",
    "        h: Planck constant\n",
    "        amu: 1 amu in kg\n",
    "        c: speed of light in m/s\n",
    "        mu_B: Bohr magneton in J/T\n",
    "        a_0: Bohr radius in m\n",
    "        q_e: electron charge\n",
    "        mu_0: vacuum permeability\n",
    "        epsilon_0: vacuum permittivity\n",
    "    \"\"\"\n",
    "    k_B = 1.380649e-23  # Boltzmann constant in J/K\n",
    "    hbar = 1.054572e-34  # reduced Planck's constant\n",
    "    h = hbar * 2 * np.pi  # Planck constant\n",
    "    amu = 1.660539066e-27  # 1 amu in kg\n",
    "    c = 299792458  # speed of light in m/s\n",
    "    mu_B = 9.2740100657e-24  # Bohr magneton in J/T\n",
    "    a_0 = 5.29177210544e-11  # Bohr radius in m\n",
    "    q_e = 1.602176634-19  # electron charge\n",
    "    mu_0 = 1.25663706127e-6  # vacuum permeability\n",
    "    epsilon_0 = 8.8541878188e-12  # vacuum permittivity"
   ]
  },
  {
   "cell_type": "markdown",
   "id": "00415d95",
   "metadata": {},
   "source": [
    "imported data as numpy arrays"
   ]
  },
  {
   "cell_type": "code",
   "execution_count": 26,
   "id": "1a5644ba",
   "metadata": {},
   "outputs": [],
   "source": [
    "CsVsBPath = \"/Users/mouhamedmbengue/Desktop/code/chinLabCode/LiCs-CodebaseV2/data/Cs_a_vs_B.txt\"\n",
    "LiCs_aVsBPath = \"/Users/mouhamedmbengue/Desktop/code/chinLabCode/LiCs-CodebaseV2/data/LiCs_a_vs_B.txt\"\n",
    "\n",
    "CsVsBData2 = np.loadtxt(fname=CsVsBPath, delimiter=\",\", skiprows=1)\n",
    "LiCs_aVsBData = np.loadtxt(fname=LiCs_aVsBPath, delimiter=\",\", skiprows=1)"
   ]
  },
  {
   "cell_type": "markdown",
   "id": "6eb9959c",
   "metadata": {},
   "source": [
    "# Atomic Properties"
   ]
  },
  {
   "cell_type": "markdown",
   "id": "96383e1d",
   "metadata": {},
   "source": [
    "Class for storing properties of Cesium 133"
   ]
  },
  {
   "cell_type": "code",
   "execution_count": 64,
   "id": "d0301046",
   "metadata": {},
   "outputs": [],
   "source": [
    "class Cs133:\n",
    "    \"\"\"This class stores atomic properties of cesium-133.\"\"\"\n",
    "    mass = 132.905451931 * constants.amu  # atomic mass in kg\n",
    "    I = 7/2  # nuclear spin\n",
    "    g_I = -0.00039885395  # nuclear g-factor\n",
    "\n",
    "    class GS: #ground state\n",
    "        g_j = 2.002540261 #fine structure landé g-factor\n",
    "        aHF = constants.h * 2.2981579425e9 #hyperfine structure constant in joules\n",
    "        #2298.1579425 #hyperfine structure constant in MHz\n",
    "\n",
    "    class D1: #D1 transition\n",
    "        omega = 2 * np.pi * 335.116048807e12  # angular frequency in Hz\n",
    "        Gamma = 2 * np.pi * 4.575e6  # decay rate in Hz\n",
    "        wavelength = 894.59295987e-9  # wavelength (in vaccum) in m\n",
    "        g_j = 0.665900 #fine structure landé g-factor\n",
    "        aHF = 291.9201 #hyperfine structure constant in MHz\n",
    "\n",
    "    class D2: #D2 transition\n",
    "        omega = 2 * np.pi * 351.72571850e12  # angular frequency in Hz\n",
    "        Gamma = 2 * np.pi * 5.234e6  # decay rate in Hz\n",
    "        wavelength = 852.34727582e-9  # wavelength (in vacuum) in m\n",
    "        g_j = 1.33408749 #fine structure landé g-factor\n",
    "        aHF = 50.28827 #hyperfine structure constant in MHz"
   ]
  },
  {
   "cell_type": "markdown",
   "id": "f3144070",
   "metadata": {},
   "source": [
    "Class for storing properties of Lithium 6"
   ]
  },
  {
   "cell_type": "code",
   "execution_count": null,
   "id": "66e85c5d",
   "metadata": {},
   "outputs": [],
   "source": [
    "class Li6:\n",
    "    \"\"\"This class stores atomic properties of lithium-6.\"\"\"\n",
    "    mass = 6.0151214 * constants.amu  # atomic mass in kg\n",
    "    I = 1  # nuclear spin\n",
    "    g_I = -0.000447654  # nuclear g-factor\n",
    "\n",
    "    class GS: #ground state \n",
    "        aHF = 152.1368407 # hyperfine structure constrant in MHz\n",
    "        g_j = 2.0023010 #Total electronic g-factor\n",
    "\n",
    "    class D1: #D1 transition\n",
    "        omega = 2 * np.pi * 446.789634e12 # angular frequency in Hz\n",
    "        Gamma = 2 * np.pi * 5.8724e6 # decay rate in Hz\n",
    "        wavelength = 670.992421e-9 # wavelength in m\n",
    "        g_j = 0.6668  #Total electronic g-factor\n",
    "        aHF = 17.386 # hyperfine structure constant in MHz\n",
    "    \n",
    "    class D2: #D2 transition\n",
    "        omega = 2 * np.pi * 446.799677e12  # angular frequency in Hz\n",
    "        Gamma = 2 * np.pi * 5.8724e6 # decay rate in Hz\n",
    "        wavelength = 670.9977338e-9  # wavelength (in vacuum) in m\n",
    "        g_j = 1.335 #Total electronic g-factor\n",
    "        aHF = -1.155 # hyperfine structure constant in MHz"
   ]
  },
  {
   "cell_type": "markdown",
   "id": "4dca5062",
   "metadata": {},
   "source": [
    "# Calculations"
   ]
  },
  {
   "cell_type": "markdown",
   "id": "927da233",
   "metadata": {},
   "source": [
    "## Breit-Rabi Energy"
   ]
  },
  {
   "cell_type": "markdown",
   "id": "8953f8e0",
   "metadata": {},
   "source": [
    "The Breit-rabi energy is computed using the following formula:\n",
    "\n",
    "$$ E_{\\ket{J=1/2, m_J, I, m_I}}  =  - \\frac{\\Delta E_{hfs}}{2(2I +1)} + g_i \\mu_B m B \\pm  \\frac{\\Delta E_{hfs}}{2} (1 + \\frac{4mx}{2I + 1} + x^2)^{1/2}$$\n",
    "\n",
    "taken from:\n",
    "\n",
    "https://steck.us/alkalidata/cesiumnumbers.pdf\n",
    "\n",
    "where:\n",
    "\n",
    "$$ \\Delta E_{hfs} = A_{hfs}(I + 1/2) $$\n",
    "\n",
    "is the hyper fine splitting energy, and:\n",
    "\n",
    "$$ x = \\frac{(g_J - g_I)\\mu_B B}{\\Delta E_{hfs}} $$\n",
    "\n",
    "For the purposes of this function:\n",
    "\n",
    "$ coef1 = \\frac{\\Delta E_{hfs}}{2(2I +1)} $\n",
    "\n",
    "$ coef2 = g_I \\mu_B m B$\n",
    "\n",
    "$coef3 = \\frac{\\Delta E_{hfs}}{2} (1 + \\frac{4mx}{2I + 1} + x^2)^{1/2}$"
   ]
  },
  {
   "cell_type": "code",
   "execution_count": 94,
   "id": "49c51b4d",
   "metadata": {},
   "outputs": [],
   "source": [
    "def breitRabi(B, m, pm:str, atomType:int, freq:bool):\n",
    "    \"\"\"\n",
    "    Function for computing the breit-rabi energy for Li6 or Cs133\n",
    "\n",
    "    Parameters:\n",
    "        B: Magnetic field in gauss\n",
    "        m: Total magnetic quantum number\n",
    "        pm: \"p\" or \"m\" decides between plus or minus in the formula\n",
    "        atomType: atomic species, 6 for lithium or 133 for cesium\n",
    "        freq: parameter to decide whether or not to return the answer as a frequency\n",
    "    \n",
    "    Returns:\n",
    "        eBR: breit-rabi energy in joules or Hz depending on the freq parameter\n",
    "    \"\"\"\n",
    "\n",
    "    #convert the field value to Tesla\n",
    "    B *= 1e-4\n",
    "\n",
    "    #define relevant constants depending on atom type\n",
    "    if atomType == 6: #Lithium\n",
    "        g_I = Li6.g_I\n",
    "        g_J = Li6.GS.g_j\n",
    "        a_HF = Li6.GS.aHF\n",
    "        I = Li6.I\n",
    "    \n",
    "    elif atomType == 133: #Cesium\n",
    "        g_I = Cs133.g_I\n",
    "        g_J = Cs133.GS.g_j\n",
    "        a_HF = Cs133.GS.aHF \n",
    "        I = Cs133.I\n",
    "    \n",
    "    else:\n",
    "        return \"Error: atomType must be 6 or 133\"\n",
    "    \n",
    "\n",
    "    #determine whether we are in the plus state or minus state\n",
    "    if pm == \"p\":\n",
    "        sign = 1\n",
    "    elif pm == \"m\":\n",
    "        sign = -1\n",
    "    else:\n",
    "        return \"Error: pm must be p or m\"\n",
    "    \n",
    "    #compute the hyperfine splitting energy\n",
    "    E_hfs = a_HF * (I + 1/2)\n",
    "\n",
    "    #compute the x-factor\n",
    "    x = ((g_J - g_I) * constants.mu_B * B)/E_hfs\n",
    "\n",
    "    # compute the three coefficients\n",
    "    coef1 = E_hfs/( 2*(2*I + 1) )\n",
    "\n",
    "    coef2 = g_I * constants.mu_B * m * B\n",
    "\n",
    "    coef3 = E_hfs/2 * ( 1 + (4*m*x)/(2*I +1) + x**2)**(1/2)\n",
    "\n",
    "    #compute breit-rabi energy\n",
    "    E_br =  -coef1 + coef2 + sign*coef3\n",
    "\n",
    "    #determine whether to return the answer as a frequency (Hz) or energy (J)\n",
    "    if freq:\n",
    "        return E_br / constants.h\n",
    "    else:\n",
    "        return E_br\n"
   ]
  },
  {
   "cell_type": "markdown",
   "id": "43339cf6",
   "metadata": {},
   "source": [
    "## Scattering length calculations"
   ]
  },
  {
   "cell_type": "markdown",
   "id": "4fe677ad",
   "metadata": {},
   "source": [
    "Function for returning the scattering length of two Cs atoms in the |3, 3> state.\n",
    "\n",
    "The data is from:\n",
    "    \n",
    "    Berninger et. al. \"Feshbach resonances, weakly bound molecular states, and coupled-channel potentials for cesium at high magnetic fields\" Phys. Rev. A 87, 032517 (2013)\n",
    "\n",
    "It is stored in Cs_a_vs_B.txt."
   ]
  },
  {
   "cell_type": "code",
   "execution_count": 22,
   "id": "a8cb8739",
   "metadata": {},
   "outputs": [],
   "source": [
    "def aCsCs(B:float):\n",
    "    \"\"\"\n",
    "    aCsCs - returns the scattering length of two Cs atoms in the |3, 3> state.\n",
    "\n",
    "    Parameters:\n",
    "        B: The magnetic field strength in Gauss.\n",
    "    \n",
    "    Returns:\n",
    "        a: The scattering length in Bohr radii.\n",
    "    \n",
    "    \"\"\"\n",
    "    #get the magnetic field strength and scatering length\n",
    "    BCsData = CsVsBData2[:, 0]\n",
    "    Cs_a = CsVsBData2[:, 1]\n",
    "\n",
    "    #interpolate the data using a cubic spline\n",
    "    spline = sp.interpolate.CubicSpline(BCsData, Cs_a, extrapolate=False)\n",
    "\n",
    "    #return the scattering length value for a given field strength\n",
    "    return spline(B)"
   ]
  },
  {
   "cell_type": "markdown",
   "id": "f4c76f8b",
   "metadata": {},
   "source": [
    "Function for calculating the scattering length of two Li atoms of various species for a given magnetic field. \n",
    "\n",
    "Possible species inputs are \"ab\", \"ac\", or \"bc\" which represent the |1, 2>, |1, 3>, and |2, 3> states respectively.\n",
    "\n",
    "Values are from table II of:\n",
    "\n",
    "    Precise Characterization of $^{6}\\mathrm{Li}$ Feshbach Resonances Using Trap-Sideband-Resolved RF Spectroscopy of Weakly Bound Molecules\" by Zurn, et. al. PRL 110 13 135301 (2013)\n"
   ]
  },
  {
   "cell_type": "code",
   "execution_count": 122,
   "id": "e961efd0",
   "metadata": {},
   "outputs": [],
   "source": [
    "def aLiLi(B, species):\n",
    "    \"\"\"\n",
    "    aLiLi - returns the Li Li scattering lengths at field B between the species given in species ('ab', 'ac', or 'bc'). \n",
    "\n",
    "    Parameters:\n",
    "        B: The magnetic field strength in Gauss.\n",
    "\n",
    "        species: The state of the lithium atoms 'ab', 'ac', or 'bc'\n",
    "    \n",
    "    Returns:\n",
    "        a: The scattering length in Bohr radii.\n",
    "    \"\"\"\n",
    "\n",
    "    if species == \"ab\":\n",
    "        abg = -1582\n",
    "        delta = -262.3\n",
    "        B0 = 832.18\n",
    "    elif species == \"ac\":\n",
    "        abg = -1770\n",
    "        delta = -166.6\n",
    "        B0 = 689.68\n",
    "    elif species == \"bc\":\n",
    "        abg = -1490\n",
    "        delta = -222.3\n",
    "        B0 = 809.76\n",
    "    else:\n",
    "        return \"Error: Invalid species argument, must be ab, ac, or bc\"\n",
    "    \n",
    "    return abg * (1 - delta / (B - B0))"
   ]
  },
  {
   "cell_type": "markdown",
   "id": "c19eabbe",
   "metadata": {},
   "source": [
    "Function for calculating the scattering length of one Li atom and one Cs atom given the magnetic field strength for various species.\n",
    "\n",
    "The possible species are \"a\" or \"b\" which represent the |Li:ground>-|Cs:Ground> and |Li:Excited>-|Cs:Ground> states respectively\n",
    "\n",
    "The constants are pulled from tables 3.2 and 3.3 of:\n",
    "\n",
    "    FESHBACH AND EFIMOV RESONANCES IN A $^{6}\\mathrm{Li}-^{133}\\mathrm{Cs}$ ATOMIC MIXTURE by Jacob Johansen"
   ]
  },
  {
   "cell_type": "code",
   "execution_count": 125,
   "id": "6578ff4a",
   "metadata": {},
   "outputs": [],
   "source": [
    "def aLiCs(B, species):\n",
    "    \"\"\"\n",
    "    aLiCs - returns the Li-Cs scattering length at a given magnetic field B, for Li atoms in the state given by species. \n",
    "\n",
    "    Parameters:\n",
    "        B: The magnetic field in Gauss.\n",
    "        species: The state of the lithium atom, \"a\" for ground, and \"b\" for excited\n",
    "    \n",
    "    Returns:\n",
    "        a: The scattering length in Bohr radii.\n",
    "    \"\"\"\n",
    "    \n",
    "    if species == 'a':\n",
    "        return -29.4 * (1 - (-58.21)/(B - 842.829) - (-4.55)/(B - 892.648))\n",
    "    \n",
    "    elif species == 'b':\n",
    "        return -29.6 * (1 - (-0.37)/(B - 816.113) - (-57.45)/(B - 888.577) - (-4.22)/(B - 943.033))\n",
    "    \n",
    "    else:\n",
    "        return \"Error: Invalid species argument, must be ab, ac, or bc\""
   ]
  },
  {
   "cell_type": "code",
   "execution_count": 6,
   "id": "f412b8a1",
   "metadata": {},
   "outputs": [],
   "source": [
    "def aLiCs_ci(abf, fieldErr, invFlag:bool):\n",
    "    \"\"\"\n",
    "    Calculate the confidence interval on the LiCs scattering length abf given the field error fielderr.\n",
    "    If invflag is true, then abf and sabf will be interpreted as 1/abf and 1/sabf.\n",
    "    \"\"\"\n",
    "\n",
    "    pass"
   ]
  },
  {
   "cell_type": "markdown",
   "id": "19e5f72f",
   "metadata": {},
   "source": [
    "Function for calculating the scattering length of different LiCs moleculat species by spline interpolation.\n",
    "\n",
    "The data is taken from LiCs_a_vs_B.txt.\n",
    "\n",
    "Possible options are \"a\", \"b\", or \"c\" which represent $LiCs$, $Li_2Cs$, and $Li_3Cs$ respectively.\n",
    "\n"
   ]
  },
  {
   "cell_type": "code",
   "execution_count": 21,
   "id": "8416c60e",
   "metadata": {},
   "outputs": [],
   "source": [
    "def aLiCs_molscat(B, species):\n",
    "    \"\"\"\n",
    "    aLiCs_molscat - returns scattering length a from molscat calculations stored in file LiCs_a_cs_B.txt\n",
    "\n",
    "    Parameters:\n",
    "        B: The magnetic field in gauss\n",
    "        species: The LiCs molecular species, \"a\" for LiCs, \"b\" for Li2Cs, or \"c\" for Li3Cs\n",
    "\n",
    "    Returns:\n",
    "        a: The scattering length of the chosen molular species in Bohr radii\n",
    "    \"\"\"\n",
    "\n",
    "    BVals = LiCs_aVsBData[:, 0]\n",
    "    \n",
    "    if species == \"a\":\n",
    "        #get the LiCs scattering values\n",
    "        aVals = LiCs_aVsBData[:, 1]\n",
    "    \n",
    "    elif species == \"b\":\n",
    "        #get the Li2Cs scattering values\n",
    "        aVals = LiCs_aVsBData[:, 2]\n",
    "    \n",
    "    elif species == \"c\":\n",
    "        #get the Li3Cs scattering values\n",
    "        aVals = LiCs_aVsBData[:, 3]\n",
    "    \n",
    "    else:\n",
    "        return \"Error: Invalid species, must be a, b, or c\"\n",
    "\n",
    "    spline = sp.interpolate.CubicSpline(BVals, aVals, extrapolate=False)\n",
    "\n",
    "    return spline(B)"
   ]
  },
  {
   "cell_type": "code",
   "execution_count": null,
   "id": "8966d2a1",
   "metadata": {},
   "outputs": [],
   "source": []
  }
 ],
 "metadata": {
  "kernelspec": {
   "display_name": "chinLab",
   "language": "python",
   "name": "python3"
  },
  "language_info": {
   "codemirror_mode": {
    "name": "ipython",
    "version": 3
   },
   "file_extension": ".py",
   "mimetype": "text/x-python",
   "name": "python",
   "nbconvert_exporter": "python",
   "pygments_lexer": "ipython3",
   "version": "3.13.5"
  }
 },
 "nbformat": 4,
 "nbformat_minor": 5
}
