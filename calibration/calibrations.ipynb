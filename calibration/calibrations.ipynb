{
 "cells": [
  {
   "cell_type": "code",
   "execution_count": 1,
   "id": "b43a3552",
   "metadata": {},
   "outputs": [],
   "source": [
    "#imports\n",
    "import numpy as np\n",
    "import scipy as sp\n",
    "import matplotlib.pyplot as plt"
   ]
  },
  {
   "cell_type": "markdown",
   "id": "1f85e48b",
   "metadata": {},
   "source": [
    "# Constants (All in SI units)"
   ]
  },
  {
   "cell_type": "code",
   "execution_count": 3,
   "id": "a60eb5c1",
   "metadata": {},
   "outputs": [],
   "source": [
    "k_B = 1.380649e-23  # Boltzmann constant in J/K\n",
    "hbar = 1.054572e-34  # reduced Planck's constant\n",
    "h = hbar * 2 * np.pi  # Planck constant\n",
    "amu = 1.660539066e-27  # 1 amu in kg\n",
    "c = 299792458  # speed of light in m/s\n",
    "mu_B = 9.2740100657e-24  # Bohr magneton in J/T\n",
    "a_0 = 5.29177210544e-11  # Bohr radius in m\n",
    "q_e = 1.602176634-19  # electron charge\n",
    "mu_0 = 1.25663706127e-6  # vacuum permeability\n",
    "epsilon_0 = 8.8541878188e-12  # vacuum permittivity"
   ]
  },
  {
   "cell_type": "markdown",
   "id": "6eb9959c",
   "metadata": {},
   "source": [
    "# Atomic Properties"
   ]
  },
  {
   "cell_type": "markdown",
   "id": "96383e1d",
   "metadata": {},
   "source": [
    "Class for storing properties of Cesium 133"
   ]
  },
  {
   "cell_type": "code",
   "execution_count": null,
   "id": "d0301046",
   "metadata": {},
   "outputs": [],
   "source": [
    "class Cs133:\n",
    "    \"\"\"This class stores atomic properties of cesium-133.\"\"\"\n",
    "    mass = 132.905451931 * amu  # atomic mass in kg\n",
    "    I = 7/2  # nuclear spin\n",
    "    g_I = -0.00039885395  # nuclear g-factor\n",
    "\n",
    "    class GS: #ground state\n",
    "        pass\n",
    "\n",
    "    class D2: #D2 transition\n",
    "        omega = 2 * np.pi * 351.72571850e12  # angular frequency in Hz\n",
    "        Gamma = 2 * np.pi * 5.234e6  # decay rate in Hz\n",
    "        wavelength = 852.34727582e-9  # wavelength (in vacuum) in m\n",
    "\n",
    "    class D1: #D1 transition\n",
    "        omega = 2 * np.pi * 335.116048807e12  # angular frequency in Hz\n",
    "        Gamma = 2 * np.pi * 4.575e6  # decay rate in Hz\n",
    "        wavelength = 894.59295987e-9  # wavelength (in vaccum) in m"
   ]
  },
  {
   "cell_type": "markdown",
   "id": "f3144070",
   "metadata": {},
   "source": [
    "Class for storing properties of Lithium 6"
   ]
  },
  {
   "cell_type": "code",
   "execution_count": 7,
   "id": "66e85c5d",
   "metadata": {},
   "outputs": [],
   "source": [
    "class Li6:\n",
    "    \"\"\"This class stores atomic properties of lithium-6.\"\"\"\n",
    "    mass = 6.0151214 * amu  # atomic mass in kg\n",
    "    I = 1  # nuclear spin\n",
    "    g_I = -0.000447654  # nuclear g-factor\n",
    "\n",
    "    class GS: #ground state \n",
    "        pass\n",
    "\n",
    "    class D2: #D2 transition\n",
    "        omega = 2 * np.pi * 446.799677e12  # angular frequency in Hz\n",
    "        Gamma = 2 * np.pi * 5.8724e6 # decay rate in Hz\n",
    "        wavelength = 670.9977338e-9  # wavelength (in vacuum) in m\n",
    "\n",
    "    class D1: #D1 transition\n",
    "        omega = 2 * np.pi * 446.789634e12 # angular frequency in Hz\n",
    "        Gamma = 2 * np.pi * 5.8724e6 # decay rate in Hz\n",
    "        wavelength = 670.992421e-9 # wavelength in m"
   ]
  },
  {
   "cell_type": "markdown",
   "id": "4dca5062",
   "metadata": {},
   "source": [
    "# Calculations"
   ]
  },
  {
   "cell_type": "code",
   "execution_count": null,
   "id": "a8cb8739",
   "metadata": {},
   "outputs": [],
   "source": []
  }
 ],
 "metadata": {
  "kernelspec": {
   "display_name": "chinLab",
   "language": "python",
   "name": "python3"
  },
  "language_info": {
   "codemirror_mode": {
    "name": "ipython",
    "version": 3
   },
   "file_extension": ".py",
   "mimetype": "text/x-python",
   "name": "python",
   "nbconvert_exporter": "python",
   "pygments_lexer": "ipython3",
   "version": "3.13.5"
  }
 },
 "nbformat": 4,
 "nbformat_minor": 5
}
